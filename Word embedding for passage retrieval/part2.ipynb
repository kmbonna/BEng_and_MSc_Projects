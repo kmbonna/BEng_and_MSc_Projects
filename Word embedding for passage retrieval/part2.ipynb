{
 "cells": [
  {
   "cell_type": "code",
   "execution_count": 1,
   "metadata": {},
   "outputs": [
    {
     "name": "stderr",
     "output_type": "stream",
     "text": [
      "[nltk_data] Downloading package stopwords to\n",
      "[nltk_data]     C:\\Users\\LEGION\\AppData\\Roaming\\nltk_data...\n",
      "[nltk_data]   Package stopwords is already up-to-date!\n",
      "[nltk_data] Downloading package wordnet to\n",
      "[nltk_data]     C:\\Users\\LEGION\\AppData\\Roaming\\nltk_data...\n",
      "[nltk_data]   Package wordnet is already up-to-date!\n"
     ]
    }
   ],
   "source": [
    "mport numpy as np\n",
    "import pandas as pd\n",
    "from nltk.tokenize import word_tokenize\n",
    "import csv\n",
    "import matplotlib.pyplot as plt\n",
    "from numpy import random\n",
    "from collections import defaultdict\n",
    "from tqdm.notebook import tqdm\n",
    "from collections import Counter\n",
    "from nltk.corpus import stopwords\n",
    "from pandas import DataFrame\n",
    "import nltk\n",
    "nltk.download('stopwords')\n",
    "nltk.download('wordnet')\n",
    "from nltk.stem import PorterStemmer\n",
    "from nltk.stem import WordNetLemmatizer\n",
    "import operator\n",
    "import string\n",
    "LOG_EVERY_N= 100\n",
    "import time"
   ]
  },
  {
   "cell_type": "code",
   "execution_count": 2,
   "metadata": {},
   "outputs": [],
   "source": [
    "TestQueriesdf = pd.read_csv(\"test-queries.tsv\", sep=\"\\t\")\n",
    "test_queries = TestQueriesdf.values\n",
    "\n",
    "query_ids= test_queries[:,0]\n",
    "\n",
    "CandPassageTopdf = pd.read_csv(\"candidate_passages_top1000.tsv\", sep=\"\\t\")\n",
    "testing_set= CandPassageTopdf.values\n",
    "\n",
    "with open(\"candidate_passages_top1000.tsv\", encoding= \"utf8\") as fp:\n",
    "    top_candidate_passages_words = fp.read().split(\"\\n\")"
   ]
  },
  {
   "cell_type": "code",
   "execution_count": 3,
   "metadata": {},
   "outputs": [],
   "source": [
    "def removeStopwords(wordlists, stopwords):            # function that removes stop words\n",
    "    filtered_list= []\n",
    "    LOG_EVERY_N= 10000\n",
    "    for i in range(len(wordlists)):\n",
    "        wordL= wordlists[i].lower().split()                  #Split into every word\n",
    "        removal = [w for w in wordL if w not in stop_words]  # remove stopwords by Iteratively going through them\n",
    "        temp=0\n",
    "        temp= ' '.join(removal)\n",
    "        filtered_list.append(temp)\n",
    "    \n",
    "    return filtered_list"
   ]
  },
  {
   "cell_type": "code",
   "execution_count": 4,
   "metadata": {},
   "outputs": [],
   "source": [
    "def LemmatizeWords(wordlists):\n",
    "    lemmatized_filtered_passages= []\n",
    "    LOG_EVERY_N= 10000\n",
    "    wordnet_lemmatizer = WordNetLemmatizer()\n",
    "    for j in range(len(wordlists)):\n",
    "        filteredL= wordlists[j].split()\n",
    "        lemmatizing= [wordnet_lemmatizer.lemmatize(word) for word in filteredL]\n",
    "        temp = 0\n",
    "        temp= ' '.join(lemmatizing)\n",
    "        lemmatized_filtered_passages.append(temp)\n",
    "    return lemmatized_filtered_passages"
   ]
  },
  {
   "cell_type": "code",
   "execution_count": 5,
   "metadata": {},
   "outputs": [],
   "source": [
    "def removepunct(wordlists): \n",
    "    no_punct_list= []\n",
    "    LOG_EVERY_N= 10000\n",
    "    for i in range(len(wordlists)):\n",
    "        wordL= wordlists[i].lower()                 #Split into every word\n",
    "        removal = wordL.translate(str.maketrans('', '', string.punctuation))\n",
    "        no_punct_list.append(removal)   \n",
    "    return no_punct_list"
   ]
  },
  {
   "cell_type": "code",
   "execution_count": 6,
   "metadata": {},
   "outputs": [],
   "source": [
    "stop_words= stopwords.words('english')"
   ]
  },
  {
   "cell_type": "code",
   "execution_count": 7,
   "metadata": {},
   "outputs": [],
   "source": [
    "def GenerateNRanking(total_list,N,passages_id_per_query,query_ids):\n",
    "    N=100\n",
    "    total_qid= []\n",
    "    total_pids= []\n",
    "    total_scores= []\n",
    "    total_doc_indices = []\n",
    "    \n",
    "    for qu in range(len(total_list)):          # For every Query\n",
    "        scores = []\n",
    "        qid= []\n",
    "        pids = []\n",
    "        list1= list(total_list[qu,:])       # Get the scores\n",
    "        for i in range(0,N):                # Find top 100 scores\n",
    "            max1= np.max(list1)\n",
    "            if (max1==-100 or max1== 0):\n",
    "                list1.remove(max1)\n",
    "                scores.append([\"NaN\"])\n",
    "                pids.append([\"NaN\"])\n",
    "                qid.append([\"NaN\"]) \n",
    "            else:\n",
    "                document_index= 0\n",
    "                document_index= list(list1).index(max1)\n",
    "                list1.remove(max1)\n",
    "                scores.append(max1)\n",
    "                pids.append(passages_id_per_query[qu][document_index])\n",
    "                qid.append(query_ids[qu])\n",
    "        total_scores.append(scores)\n",
    "        total_pids.append(pids)\n",
    "        total_qid.append(qid)\n",
    "    return total_scores,total_qid, total_pids\n"
   ]
  },
  {
   "cell_type": "code",
   "execution_count": 8,
   "metadata": {},
   "outputs": [],
   "source": [
    "def SaveFile(total_scores,total_qid,total_pids,algo):\n",
    "    \n",
    "    \n",
    "    qids= np.array(total_qid)\n",
    "    qids=qids.reshape((qids.shape[0]*qids.shape[1],1))\n",
    "    \n",
    "    pids= np.array(total_pids)\n",
    "    pids= pids.reshape((pids.shape[0]*pids.shape[1],1))\n",
    "    \n",
    "    scores= np.array(total_scores)\n",
    "    scores=scores.reshape((scores.shape[0]*scores.shape[1],1))\n",
    "    \n",
    "    \n",
    "    \n",
    "    algor= np.full((qids.shape[0], 1), algo) \n",
    "    watermark= np.full((qids.shape[0], 1), \"A2\")                 #Watermark\n",
    "      \n",
    "    ranking= np.array((range(1,len(total_pids[0])+1)))\n",
    "    ranklist = []\n",
    "    for x in range(len(total_pids)):\n",
    "        ranklist.append(ranking)  \n",
    "        \n",
    "    rank = np.array(ranklist)  \n",
    "    rank = rank.reshape((rank.shape[0]*rank.shape[1],1))\n",
    "    \n",
    "    with open('%s.txt' % algo,'w+') as f:\n",
    "        writer= csv.writer(f,)\n",
    "        writer.writerows(zip(qids,watermark,pids,rank,scores,algor))"
   ]
  },
  {
   "cell_type": "markdown",
   "metadata": {},
   "source": [
    "We start by importing back the testing set and pre-processing it:"
   ]
  },
  {
   "cell_type": "code",
   "execution_count": 9,
   "metadata": {},
   "outputs": [],
   "source": [
    "temp_testing_q=removepunct(test_queries[:,1])\n",
    "lemmed_filtered_test_queries= removeStopwords(temp_testing_q, stop_words)\n",
    "testing_lemmed_filtered_test_queries=LemmatizeWords(lemmed_filtered_test_queries)\n",
    "\n",
    "\n",
    "query_ids= test_queries[:,0]\n",
    "temp= []\n",
    "testing_filtered_passages_per_query= []\n",
    "testing_passages_id_per_query= []\n",
    "temp_testing_p = []\n",
    "for j in range(len(query_ids)):\n",
    "    indices = [i for i, x in enumerate(testing_set[:,0]) if x == query_ids[j]]\n",
    "    temp_passages=testing_set[indices,3]\n",
    "    temp_id= testing_set[indices,1]\n",
    "    temp_testing_p.append(removepunct(temp_passages))\n",
    "    temp2_testing_p= removeStopwords(temp_testing_p[j], stop_words)\n",
    "    temp3_passages= LemmatizeWords(temp2_testing_p)\n",
    "    testing_filtered_passages_per_query.append(temp3_passages)\n",
    "    testing_passages_id_per_query.append(temp_id)"
   ]
  },
  {
   "cell_type": "markdown",
   "metadata": {},
   "source": [
    "In this part, we implement the BM25 again on the new validation dataset."
   ]
  },
  {
   "cell_type": "code",
   "execution_count": 10,
   "metadata": {},
   "outputs": [],
   "source": [
    "Validation = pd.read_csv(\"validation_data.tsv\", sep=\"\\t\")\n",
    "validation_set= Validation.values\n",
    "\n",
    "Training = pd.read_csv(\"train_data.tsv\", sep=\"\\t\")\n",
    "training_data = Training.values"
   ]
  },
  {
   "cell_type": "code",
   "execution_count": 11,
   "metadata": {},
   "outputs": [
    {
     "data": {
      "text/plain": [
       "'Watch portion sizes: ■ Even healthy foods will cause high blood sugar if you eat too much. ■ Make sure each of your meals has the same amount of CHOs. Avoid foods high in sugar: ■ Some foods to avoid: sugar, honey, candies, syrup, cakes, cookies, regular soda and.'"
      ]
     },
     "execution_count": 11,
     "metadata": {},
     "output_type": "execute_result"
    }
   ],
   "source": [
    "relevant_docs = [x for x in training_data[:,4] if x==1]\n",
    "len(relevant_docs)\n",
    "training_data[0,3]"
   ]
  },
  {
   "cell_type": "code",
   "execution_count": 12,
   "metadata": {},
   "outputs": [],
   "source": [
    "valid_queries_id= list(Counter(validation_set[:,0]).keys())                         \n",
    "no_of_docs_per_given_valid_query= list(Counter(validation_set[:,0]).values()) "
   ]
  },
  {
   "cell_type": "code",
   "execution_count": 13,
   "metadata": {},
   "outputs": [],
   "source": [
    "valid_queries= list(Counter(validation_set[:,2]).keys())                              # Finding a list of all unique queries"
   ]
  },
  {
   "cell_type": "code",
   "execution_count": 14,
   "metadata": {},
   "outputs": [],
   "source": [
    "subset_validation_queries= valid_queries[:]\n",
    "subset_validation_query_ids= valid_queries_id[:]"
   ]
  },
  {
   "cell_type": "code",
   "execution_count": 15,
   "metadata": {},
   "outputs": [],
   "source": [
    "temp_validation_q= removepunct(subset_validation_queries[:])                     # in the interest of time\n",
    "temp2_validation_q=removeStopwords(temp_validation_q, stop_words)        # currently only looking for the first 10 queries \n",
    "clean_filtered_valid_queries=LemmatizeWords(temp2_validation_q)"
   ]
  },
  {
   "cell_type": "code",
   "execution_count": 16,
   "metadata": {},
   "outputs": [],
   "source": [
    "clean_valid_passages_for_queries = []\n",
    "validation_passages_id_for_queries = []\n",
    "temp_validation_p = []\n",
    "for i in range(len(subset_validation_queries[:])):\n",
    "    temp_passages_id=validation_set[validation_set[:,0]==subset_validation_query_ids[i],1]\n",
    "    validation_passages_id_for_queries.append(temp_passages_id)\n",
    "    temp_passages= validation_set[validation_set[:,0]==subset_validation_query_ids[i],3]\n",
    "    temp_validation_p.append(removepunct(temp_passages))\n",
    "    temp2_validation_p= removeStopwords(temp_validation_p[i], stop_words)\n",
    "    temp3_passages= LemmatizeWords(temp2_validation_p)\n",
    "    clean_valid_passages_for_queries.append(temp3_passages)\n",
    "    "
   ]
  },
  {
   "cell_type": "code",
   "execution_count": 17,
   "metadata": {},
   "outputs": [],
   "source": [
    "validation_passages= validation_set[0:1000,3]\n",
    "validation_passages=removepunct(validation_passages)\n",
    "validation_passages=removeStopwords(validation_passages,stop_words)\n",
    "unordered_validation_passages=LemmatizeWords(validation_passages)\n",
    "\n",
    "validation_queries= validation_set[0:1000,2]\n",
    "validation_queries=removepunct(validation_queries)\n",
    "validation_queries=removeStopwords(validation_queries,stop_words)\n",
    "unordered_validation_queries=LemmatizeWords(validation_queries)"
   ]
  },
  {
   "cell_type": "markdown",
   "metadata": {},
   "source": [
    "Build the inverted index again"
   ]
  },
  {
   "cell_type": "code",
   "execution_count": 18,
   "metadata": {},
   "outputs": [],
   "source": [
    "InvIndx= dict({qid: { } for qid in subset_validation_query_ids[:]})\n",
    "for i in range(len(subset_validation_query_ids[:])):\n",
    "    query_words= clean_filtered_valid_queries[i].split()\n",
    "    for j in range(len(clean_valid_passages_for_queries[i])):\n",
    "        check = clean_valid_passages_for_queries[i][j]     \n",
    "        for item in query_words: \n",
    "            if item in check:\n",
    "                occurance=check.count(item)\n",
    "                if item not in InvIndx[subset_validation_query_ids[i]]:\n",
    "                    InvIndx[subset_validation_query_ids[i]][item] = []    \n",
    "                if item in InvIndx[subset_validation_query_ids[i]]:\n",
    "                    InvIndx[subset_validation_query_ids[i]][item].append(validation_passages_id_for_queries[i][j])\n",
    "                InvIndx[subset_validation_query_ids[i]][item].append(occurance) "
   ]
  },
  {
   "cell_type": "code",
   "execution_count": 19,
   "metadata": {
    "scrolled": true
   },
   "outputs": [
    {
     "name": "stdout",
     "output_type": "stream",
     "text": [
      "32.78459668989547\n"
     ]
    }
   ],
   "source": [
    "BM25= np.zeros((len(clean_valid_passages_for_queries),len(clean_valid_passages_for_queries[0])))\n",
    "\n",
    "words = ''.join(str(clean_valid_passages_for_queries[:][:])).split()\n",
    "\n",
    "no_of_words= len(words)\n",
    "\n",
    "vocab_size= len(list(InvIndx.fromkeys(words))) \n",
    "\n",
    "no_of_documents = len(clean_valid_passages_for_queries) * len(clean_valid_passages_for_queries[0])\n",
    "\n",
    "average_doc_length =  no_of_words / no_of_documents\n",
    "\n",
    "k1= 1.2\n",
    "k2= 100\n",
    "b=0.75\n",
    "print(average_doc_length)"
   ]
  },
  {
   "cell_type": "code",
   "execution_count": 20,
   "metadata": {},
   "outputs": [],
   "source": [
    "for q in range(len(clean_valid_passages_for_queries)):                 # Iterating Through each query\n",
    "    N_total= len(clean_valid_passages_for_queries) * len(clean_valid_passages_for_queries[q])            #Total Number of documents in collection\n",
    "    words_in_query= list(InvIndx[subset_validation_query_ids[q]].keys())       # Find the words available for every query\n",
    "    \n",
    "    for d in range(len(clean_valid_passages_for_queries[q])):                     #Iterating through every document\n",
    "        \n",
    "        doc_len= len(clean_valid_passages_for_queries[q][d].split())\n",
    "        query_len= len(words_in_query) \n",
    "        doc_id= validation_passages_id_for_queries[q][d]                                         # getting the document id\n",
    "        K= k1* ((1-b) + (b * ((doc_len)/average_doc_length)))\n",
    "        \n",
    "        summation_BM = 0\n",
    "        ri = 0\n",
    "        R = 0\n",
    "        \n",
    "        for t in range(len(words_in_query)):                   #For each word in the query  \n",
    "            \n",
    "            values= list(InvIndx[subset_validation_query_ids[q]][words_in_query[t]])  #Inverted index for term position and frequency\n",
    "            nt= int(len(values)/2)                              # how many docs has it occured in\n",
    "            \n",
    "            num1=0.5 + ri\n",
    "            denum1=R - ri + 0.5\n",
    "            num2= nt - ri + 0.5\n",
    "            denum2=N_total - nt - R + ri + 0.5\n",
    "            \n",
    "            if doc_id in values:    \n",
    "                tf = values[values.index(doc_id) + 1]                       # Term frequency in that document\n",
    "                \n",
    "                try:\n",
    "                    product1_BM= np.log((num1/denum1) / (num2/denum2))                             #First Part od BM\n",
    "                except ZeroDivisionError:\n",
    "                    product1_BM = 1                              # 1 as its a log\n",
    "                \n",
    "                product2_BM= ((k1+1) * tf) / (K+tf)\n",
    "                product3_BM= ((k2+1)*words_in_query.count(words_in_query[t])) / (k2+words_in_query.count(words_in_query[t]))\n",
    "                 \n",
    "                Product_BM= product1_BM * product2_BM * product3_BM \n",
    "                \n",
    "            else:\n",
    "                # If terms are not seen\n",
    "                Product_BM=0\n",
    "            \n",
    "            summation_BM+= Product_BM \n",
    "                \n",
    "        BM25[q,d]=summation_BM"
   ]
  },
  {
   "cell_type": "code",
   "execution_count": 21,
   "metadata": {},
   "outputs": [],
   "source": [
    "#BM25\n",
    "N=100\n",
    "top_scores,top_qids,top_pids = GenerateNRanking(BM25,N,validation_passages_id_for_queries,subset_validation_query_ids)"
   ]
  },
  {
   "cell_type": "markdown",
   "metadata": {},
   "source": [
    "Subtask 1: We find MAP and MnDCG for using the BM25"
   ]
  },
  {
   "cell_type": "code",
   "execution_count": 119,
   "metadata": {},
   "outputs": [],
   "source": [
    "def GetMetrics(validation_set,top_qids,top_pids):\n",
    "    average_precision_lst = []\n",
    "    ndcg_lst= []\n",
    "    \n",
    "    for q in range(len(top_qids)):            # For each query\n",
    "        #if q%100==0:\n",
    "        #    print(\"iteration number: %i\" %q,\"out of %i\" %len(top_qids))\n",
    "        # Variables needed for computing MAP\n",
    "        count=0\n",
    "        precision = []\n",
    "        # Variables needed for computing NDCG\n",
    "        dcg = 0\n",
    "        idcg=0\n",
    "        data_per_query= validation_set[validation_set[:,0]==top_qids[q][0],:] # blocks of data/documents per query\n",
    "        no_of_relevancies= Counter(data_per_query[:,4])                       # count number of positive and neg relevancies\n",
    "        no_of_positive_relevancies=no_of_relevancies[1]                        # get number of positive relevancies \n",
    "        \n",
    "        #Calculating IDCG\n",
    "        for I in range(no_of_positive_relevancies):\n",
    "            num_idcg= 1\n",
    "            denum_idcg= np.log2(I+2)\n",
    "            idcg+= num_idcg/denum_idcg\n",
    "                    \n",
    "        for n in range(len(top_pids[q])):\n",
    "            relevancy = data_per_query[data_per_query[:,1]==top_pids[q][n],4]\n",
    "            \n",
    "            #Calculating DCG\n",
    "            if relevancy.size > 0:\n",
    "                num_dcg = (2 **(relevancy)) - 1\n",
    "                denum_dcg =  np.log2(n+2)\n",
    "                dcg+= num_dcg/denum_dcg\n",
    "            else:\n",
    "                dcg+=0  \n",
    "            \n",
    "            #Computing MAP\n",
    "            if (relevancy.size>0 and relevancy==1):\n",
    "                #print(\"query number: \", q)\n",
    "                #print(\"relevant document ranking: \", n)\n",
    "                count+=1\n",
    "                precision.append(count/(n+1))\n",
    "                \n",
    "        # finding mean average precision over queries\n",
    "        if not precision:\n",
    "            average_precision=0\n",
    "        else:\n",
    "            average_precision= np.mean(precision)\n",
    "        \n",
    "        average_precision_lst.append(average_precision)\n",
    "        #finding mean NDCG over queries\n",
    "        if idcg!=0:\n",
    "            ndcg= dcg/idcg\n",
    "            ndcg_lst.append(ndcg)\n",
    "    \n",
    "    MAP= np.mean(average_precision_lst) \n",
    "    MnDCG= np.mean(ndcg_lst)\n",
    "    \n",
    "    return MAP,MnDCG"
   ]
  },
  {
   "cell_type": "code",
   "execution_count": 23,
   "metadata": {},
   "outputs": [],
   "source": [
    "MAP,MnDCG= GetMetrics(validation_set,top_qids,top_pids)"
   ]
  },
  {
   "cell_type": "code",
   "execution_count": 24,
   "metadata": {},
   "outputs": [
    {
     "data": {
      "text/plain": [
       "0.14879101410952542"
      ]
     },
     "execution_count": 24,
     "metadata": {},
     "output_type": "execute_result"
    }
   ],
   "source": [
    "MAP"
   ]
  },
  {
   "cell_type": "code",
   "execution_count": 25,
   "metadata": {},
   "outputs": [
    {
     "data": {
      "text/plain": [
       "0.1960943891018742"
      ]
     },
     "execution_count": 25,
     "metadata": {},
     "output_type": "execute_result"
    }
   ],
   "source": [
    "MnDCG"
   ]
  },
  {
   "cell_type": "code",
   "execution_count": 26,
   "metadata": {},
   "outputs": [
    {
     "name": "stdout",
     "output_type": "stream",
     "text": [
      "Query: \n",
      "['who discovered the element carbon']\n",
      "\n",
      "\n",
      "Top BM25 on txt file: \n",
      "['The element carbon was discovered by the Egyptians or Sumerians. They discovered one elemental form of carbon- charcoal. Other elemental forms are graphite and diamond. Chemical analysis of these forms of carbon was not done until the 18th century. Antoine Lavoisier was the first to list carbon as an element in 1789.']\n"
     ]
    }
   ],
   "source": [
    "Compare= 4\n",
    "\n",
    "\n",
    "print(\"Query: \")\n",
    "print(np.unique(validation_set[np.where(validation_set[:,0]==top_qids[Compare][0]),2]))\n",
    "print(\"\\n\")\n",
    "print(\"Top BM25 on txt file: \")\n",
    "print(np.unique(validation_set[np.where(validation_set[:,1]==top_pids[Compare][0]),3]))"
   ]
  },
  {
   "cell_type": "markdown",
   "metadata": {},
   "source": [
    "Subtask 2: Logistic Regression"
   ]
  },
  {
   "cell_type": "markdown",
   "metadata": {},
   "source": [
    "Part 1: Creating the Word2Vec Model using a subset of the training data"
   ]
  },
  {
   "cell_type": "code",
   "execution_count": 27,
   "metadata": {},
   "outputs": [],
   "source": [
    "import gensim\n",
    "import gensim.downloader\n",
    "import gensim.downloader as api\n",
    "from gensim.models.word2vec import Word2Vec\n",
    "#corpus = api.load('text8')\n",
    "#Model = Word2Vec(corpus)"
   ]
  },
  {
   "cell_type": "code",
   "execution_count": 28,
   "metadata": {},
   "outputs": [],
   "source": [
    "model = gensim.downloader.load('word2vec-google-news-300')"
   ]
  },
  {
   "cell_type": "code",
   "execution_count": 29,
   "metadata": {},
   "outputs": [],
   "source": [
    "### training_data[0,3]               #Explain in report\n",
    "training_data = training_data[1:,:]"
   ]
  },
  {
   "cell_type": "code",
   "execution_count": 30,
   "metadata": {},
   "outputs": [],
   "source": [
    "unique_training_query_id = list(Counter(training_data[:,0]).keys())"
   ]
  },
  {
   "cell_type": "code",
   "execution_count": 31,
   "metadata": {},
   "outputs": [],
   "source": [
    "unique_training_queries = list(Counter(training_data[:,2]).keys())"
   ]
  },
  {
   "cell_type": "code",
   "execution_count": 32,
   "metadata": {
    "scrolled": true
   },
   "outputs": [
    {
     "name": "stdout",
     "output_type": "stream",
     "text": [
      "iteration no: 0 out of 4590\n",
      "iteration no: 500 out of 4590\n",
      "iteration no: 1000 out of 4590\n",
      "iteration no: 1500 out of 4590\n",
      "iteration no: 2000 out of 4590\n",
      "iteration no: 2500 out of 4590\n",
      "iteration no: 3000 out of 4590\n",
      "iteration no: 3500 out of 4590\n",
      "iteration no: 4000 out of 4590\n",
      "iteration no: 4500 out of 4590\n",
      "270.2920536994934\n"
     ]
    }
   ],
   "source": [
    "#Performing Negative Sampling\n",
    "start= time.time()\n",
    "sampled_passages = []\n",
    "sampled_queries = []\n",
    "sampled_queries_id = []\n",
    "sampled_relevs= []\n",
    "for q in range(len(unique_training_query_id)): \n",
    "    if q%500==0:\n",
    "        print(\"iteration no: %i\" %q,\"out of %i\" %len(unique_training_query_id))\n",
    "\n",
    "    data_per_training_query=training_data[training_data[:,0]==unique_training_query_id[q],:]\n",
    "\n",
    "    negative_data_per_query=  list(data_per_training_query[data_per_training_query[:,4]==0,:])\n",
    "\n",
    "    positive_data_per_query= list(data_per_training_query[data_per_training_query[:,4]==1,:])\n",
    "\n",
    "    tosample_data= np.array(negative_data_per_query[0:10*len(positive_data_per_query)] + positive_data_per_query)\n",
    "\n",
    "    sampled_passages.extend(tosample_data[:,3])\n",
    "    sampled_queries.extend(tosample_data[:,2])\n",
    "    sampled_queries_id.extend(tosample_data[:,0])\n",
    "    sampled_relevs.extend(tosample_data[:,4])\n",
    "\n",
    "end = time.time()\n",
    "print(end-start)"
   ]
  },
  {
   "cell_type": "code",
   "execution_count": 33,
   "metadata": {},
   "outputs": [],
   "source": [
    "temp_q= removepunct(sampled_queries)  \n",
    "temp2_q=removeStopwords(temp_q, stop_words)                 \n",
    "filtered_sampled_queries=LemmatizeWords(temp2_q)"
   ]
  },
  {
   "cell_type": "code",
   "execution_count": 34,
   "metadata": {},
   "outputs": [],
   "source": [
    "temp_p=removeStopwords(sampled_passages, stop_words) \n",
    "temp2_p= removepunct(temp_p)                    \n",
    "filtered_sampled_passages=LemmatizeWords(temp2_p)"
   ]
  },
  {
   "cell_type": "code",
   "execution_count": 35,
   "metadata": {},
   "outputs": [],
   "source": [
    "def GetEmbeddings(model,sentences,temp_q):  #One list of sentences\n",
    "    all_words= [w.split() for w in sentences]                     #List of List\n",
    "    _vector= np.zeros((len(sentences),300))\n",
    "    for n in range(len(sentences)):\n",
    "        #if (n!=0 and n%100==0):\n",
    "        #    print(\"iteration number: %i\" %n,\"out of %i\" %len(sentences))\n",
    "        _embedding= []\n",
    "        for j in range(len(all_words[n])):\n",
    "            try:\n",
    "                temp_vec= model[all_words[n][j]]\n",
    "            except KeyError as e:  \n",
    "                if (not _embedding and j==len(all_words[n])-1):  # if the only word in the query is not present\n",
    "                    unremoved= temp_q[n].split()                                     #find removed stopwords and uses them\n",
    "                    for J in range(len(unremoved)):\n",
    "                        try:\n",
    "                            TEMP_VEC= model[unremoved[J]]\n",
    "                        except KeyError as e:\n",
    "                            if (not _embedding and J==len(unremoved)-1):\n",
    "                                _embedding.append(np.zeros(300))   \n",
    "                            continue\n",
    "                        _embedding.append(TEMP_VEC)\n",
    "                continue   \n",
    "            _embedding.append(temp_vec)\n",
    "    \n",
    "        _vector[n,:] = np.mean(_embedding,axis=0)\n",
    "    \n",
    "    return _vector"
   ]
  },
  {
   "cell_type": "code",
   "execution_count": 36,
   "metadata": {},
   "outputs": [],
   "source": [
    "query_vector = GetEmbeddings(model,filtered_sampled_queries,temp_q)"
   ]
  },
  {
   "cell_type": "code",
   "execution_count": 37,
   "metadata": {},
   "outputs": [],
   "source": [
    "passage_vector = GetEmbeddings(model,filtered_sampled_passages,temp_p)"
   ]
  },
  {
   "cell_type": "code",
   "execution_count": 38,
   "metadata": {},
   "outputs": [],
   "source": [
    "sampled_training_features = abs(query_vector - passage_vector)\n",
    "sampled_training_features_600 = np.hstack((query_vector,passage_vector))"
   ]
  },
  {
   "cell_type": "code",
   "execution_count": 39,
   "metadata": {},
   "outputs": [
    {
     "data": {
      "text/plain": [
       "(52615, 300)"
      ]
     },
     "execution_count": 39,
     "metadata": {},
     "output_type": "execute_result"
    }
   ],
   "source": [
    "sampled_training_features.shape"
   ]
  },
  {
   "cell_type": "markdown",
   "metadata": {},
   "source": [
    "Part 2: Implement the Logistic Regression"
   ]
  },
  {
   "cell_type": "code",
   "execution_count": 40,
   "metadata": {},
   "outputs": [],
   "source": [
    "def sigmoid(o):\n",
    "    return 1/(1+np.exp(-o))"
   ]
  },
  {
   "cell_type": "code",
   "execution_count": 41,
   "metadata": {},
   "outputs": [],
   "source": [
    "obs= np.array(sampled_relevs).astype(None)    # observations (relevance values)\n",
    "observations = obs.reshape((len(obs), 1))"
   ]
  },
  {
   "cell_type": "code",
   "execution_count": 53,
   "metadata": {},
   "outputs": [
    {
     "data": {
      "image/png": "[encoded data removed]",
      "text/plain": [
       "<Figure size 432x288 with 1 Axes>"
      ]
     },
     "metadata": {
      "needs_background": "light"
     },
     "output_type": "display_data"
    }
   ],
   "source": [
    "lr= [1e-6,5e-6,1e-5,5e-5]\n",
    "fig, ax = plt.subplots()\n",
    "all_weights = []\n",
    "inital_weights = np.random.randn(300,1)\n",
    "for l in lr:\n",
    "    weights= inital_weights\n",
    "    itr=0\n",
    "    loss = []\n",
    "    for y in range(100): # Continue until converge criterion is met\n",
    "\n",
    "        sig=sigmoid(sampled_training_features@weights)\n",
    "\n",
    "        prod1= observations * np.log(sig)\n",
    "\n",
    "        prod0 = (1-observations) * (np.log(1 - sig))\n",
    "\n",
    "        curr_loss = (-1/sampled_training_features.shape[0]) * np.sum(prod1 + prod0)\n",
    "        loss.append(curr_loss)\n",
    "\n",
    "        gradient_loss= -(sampled_training_features.T@(observations-sig))\n",
    "\n",
    "        previous_w= weights\n",
    "        weights = weights - (l * gradient_loss)\n",
    "        itr+=1\n",
    "        if itr==10000:\n",
    "            break\n",
    "    all_weights.append(weights)\n",
    "    ax.plot(loss, label=\"learning rate: \"+ str(l))\n",
    "    plt.legend(['A simple line'])\n",
    "plt.title(\"effect of learning rate on training loss\")\n",
    "plt.xlabel(\"number of iterations\")\n",
    "plt.ylabel(\"training loss\")\n",
    "ax.legend()\n",
    "plt.show()"
   ]
  },
  {
   "cell_type": "markdown",
   "metadata": {},
   "source": [
    "Part 3: Logistic Regression on the validation set"
   ]
  },
  {
   "cell_type": "markdown",
   "metadata": {},
   "source": [
    "There are 1,148 unique queries in the validation set, and roughly 1,000 passage per given query. i.e(1,103,039 points)"
   ]
  },
  {
   "cell_type": "code",
   "execution_count": 43,
   "metadata": {},
   "outputs": [],
   "source": [
    "validation_query_vectors = GetEmbeddings(model,clean_filtered_valid_queries,temp_validation_q)\n",
    "#validation_query_vectors = GetEmbeddings(model,temp_validation_q,temp_validation_q)"
   ]
  },
  {
   "cell_type": "code",
   "execution_count": 44,
   "metadata": {},
   "outputs": [],
   "source": [
    "testing_query_vectors = GetEmbeddings(model,testing_lemmed_filtered_test_queries,temp_testing_q)"
   ]
  },
  {
   "cell_type": "code",
   "execution_count": 45,
   "metadata": {},
   "outputs": [],
   "source": [
    "Validation_LogReg= np.zeros((len(clean_filtered_valid_queries),len(clean_valid_passages_for_queries[0])))"
   ]
  },
  {
   "cell_type": "code",
   "execution_count": 54,
   "metadata": {},
   "outputs": [
    {
     "name": "stdout",
     "output_type": "stream",
     "text": [
      "iteration number: 0 out of 1148\n",
      "iteration number: 500 out of 1148\n",
      "iteration number: 1000 out of 1148\n",
      "0.00841547814272662\n",
      "0.028653939702829652\n",
      "iteration number: 0 out of 1148\n",
      "iteration number: 500 out of 1148\n",
      "iteration number: 1000 out of 1148\n",
      "0.009460606926325455\n",
      "0.03061571797995889\n",
      "iteration number: 0 out of 1148\n",
      "iteration number: 500 out of 1148\n",
      "iteration number: 1000 out of 1148\n",
      "0.009724361440559418\n",
      "0.030349823498459227\n",
      "iteration number: 0 out of 1148\n",
      "iteration number: 500 out of 1148\n",
      "iteration number: 1000 out of 1148\n",
      "0.009158314766348473\n",
      "0.03015896332171011\n"
     ]
    }
   ],
   "source": [
    "all_metrics= []\n",
    "for w in all_weights:\n",
    "    for q in range(len(clean_filtered_valid_queries)):                 # Iterating Through each query\n",
    "        if q%500==0:\n",
    "            print(\"iteration number: %i\" %q,\"out of %i\" %len(clean_filtered_valid_queries))\n",
    "\n",
    "        validation_passage_vectors = GetEmbeddings(model,temp_validation_p[q],temp_validation_p[q])\n",
    "\n",
    "\n",
    "        validation_features= abs(validation_query_vectors[q] - validation_passage_vectors)\n",
    "\n",
    "        y_hat = sigmoid(validation_features@w)\n",
    "        y_hat = y_hat.reshape((len(y_hat)))\n",
    "        Validation_LogReg[q,0:validation_passage_vectors.shape[0]]= y_hat \n",
    "    N=100\n",
    "    V_top_scores_LR,V_top_qids_LR,V_top_pids_LR = GenerateNRanking(Validation_LogReg,N,validation_passages_id_for_queries,subset_validation_query_ids)\n",
    "    MAP_LR,MnDCG_LR= GetMetrics(validation_set,V_top_qids_LR,V_top_pids_LR)\n",
    "    all_metrics.append(MnDCG_LR)\n",
    "    print(MAP_LR)\n",
    "    print(MnDCG_LR)"
   ]
  },
  {
   "cell_type": "code",
   "execution_count": 55,
   "metadata": {},
   "outputs": [
    {
     "name": "stdout",
     "output_type": "stream",
     "text": [
      "iteration number: 0 out of 1148\n",
      "iteration number: 500 out of 1148\n",
      "iteration number: 1000 out of 1148\n",
      "0.009460606926325455\n",
      "0.03061571797995889\n"
     ]
    }
   ],
   "source": [
    "for q in range(len(clean_filtered_valid_queries)):                 # Iterating Through each query\n",
    "    if q%500==0:\n",
    "        print(\"iteration number: %i\" %q,\"out of %i\" %len(clean_filtered_valid_queries))\n",
    "\n",
    "    validation_passage_vectors = GetEmbeddings(model,temp_validation_p[q],temp_validation_p[q])\n",
    "\n",
    "\n",
    "    validation_features= abs(validation_query_vectors[q] - validation_passage_vectors)\n",
    "\n",
    "    y_hat = sigmoid(validation_features@all_weights[np.argmax(all_metrics)])\n",
    "    y_hat = y_hat.reshape((len(y_hat)))\n",
    "    Validation_LogReg[q,0:validation_passage_vectors.shape[0]]= y_hat \n",
    "N=100\n",
    "V_top_scores_LR,V_top_qids_LR,V_top_pids_LR = GenerateNRanking(Validation_LogReg,N,validation_passages_id_for_queries,subset_validation_query_ids)\n",
    "MAP_LR,MnDCG_LR= GetMetrics(validation_set,V_top_qids_LR,V_top_pids_LR)\n",
    "print(MAP_LR)\n",
    "print(MnDCG_LR)"
   ]
  },
  {
   "cell_type": "code",
   "execution_count": 56,
   "metadata": {},
   "outputs": [],
   "source": [
    "#LogReg\n",
    "N=100\n",
    "V_top_scores_LR,V_top_qids_LR,V_top_pids_LR = GenerateNRanking(Validation_LogReg,N,validation_passages_id_for_queries,subset_validation_query_ids)"
   ]
  },
  {
   "cell_type": "code",
   "execution_count": 93,
   "metadata": {},
   "outputs": [
    {
     "name": "stdout",
     "output_type": "stream",
     "text": [
      "query number:  6\n",
      "relevant document ranking:  81\n",
      "query number:  10\n",
      "relevant document ranking:  97\n",
      "query number:  26\n",
      "relevant document ranking:  61\n",
      "query number:  31\n",
      "relevant document ranking:  2\n",
      "query number:  32\n",
      "relevant document ranking:  67\n",
      "query number:  33\n",
      "relevant document ranking:  49\n",
      "query number:  33\n",
      "relevant document ranking:  99\n",
      "query number:  51\n",
      "relevant document ranking:  83\n",
      "query number:  73\n",
      "relevant document ranking:  88\n",
      "query number:  75\n",
      "relevant document ranking:  30\n",
      "query number:  78\n",
      "relevant document ranking:  68\n",
      "query number:  86\n",
      "relevant document ranking:  0\n",
      "query number:  120\n",
      "relevant document ranking:  63\n",
      "query number:  120\n",
      "relevant document ranking:  85\n",
      "query number:  127\n",
      "relevant document ranking:  11\n",
      "query number:  138\n",
      "relevant document ranking:  35\n",
      "query number:  144\n",
      "relevant document ranking:  3\n",
      "query number:  145\n",
      "relevant document ranking:  5\n",
      "query number:  155\n",
      "relevant document ranking:  45\n",
      "query number:  184\n",
      "relevant document ranking:  72\n",
      "query number:  201\n",
      "relevant document ranking:  57\n",
      "query number:  230\n",
      "relevant document ranking:  76\n",
      "query number:  231\n",
      "relevant document ranking:  39\n",
      "query number:  243\n",
      "relevant document ranking:  17\n",
      "query number:  255\n",
      "relevant document ranking:  11\n",
      "query number:  265\n",
      "relevant document ranking:  28\n",
      "query number:  268\n",
      "relevant document ranking:  35\n",
      "query number:  269\n",
      "relevant document ranking:  66\n",
      "query number:  279\n",
      "relevant document ranking:  81\n",
      "query number:  280\n",
      "relevant document ranking:  57\n",
      "query number:  288\n",
      "relevant document ranking:  18\n",
      "query number:  292\n",
      "relevant document ranking:  7\n",
      "query number:  297\n",
      "relevant document ranking:  13\n",
      "query number:  302\n",
      "relevant document ranking:  87\n",
      "query number:  312\n",
      "relevant document ranking:  86\n",
      "query number:  320\n",
      "relevant document ranking:  97\n",
      "query number:  340\n",
      "relevant document ranking:  95\n",
      "query number:  346\n",
      "relevant document ranking:  70\n",
      "query number:  352\n",
      "relevant document ranking:  47\n",
      "query number:  352\n",
      "relevant document ranking:  92\n",
      "query number:  358\n",
      "relevant document ranking:  28\n",
      "query number:  359\n",
      "relevant document ranking:  58\n",
      "query number:  371\n",
      "relevant document ranking:  65\n",
      "query number:  378\n",
      "relevant document ranking:  46\n",
      "query number:  382\n",
      "relevant document ranking:  67\n",
      "query number:  384\n",
      "relevant document ranking:  98\n",
      "query number:  427\n",
      "relevant document ranking:  54\n",
      "query number:  437\n",
      "relevant document ranking:  45\n",
      "query number:  441\n",
      "relevant document ranking:  40\n",
      "query number:  475\n",
      "relevant document ranking:  4\n",
      "query number:  475\n",
      "relevant document ranking:  49\n",
      "query number:  478\n",
      "relevant document ranking:  5\n",
      "query number:  502\n",
      "relevant document ranking:  22\n",
      "query number:  502\n",
      "relevant document ranking:  29\n",
      "query number:  506\n",
      "relevant document ranking:  10\n",
      "query number:  508\n",
      "relevant document ranking:  18\n",
      "query number:  509\n",
      "relevant document ranking:  1\n",
      "query number:  521\n",
      "relevant document ranking:  17\n",
      "query number:  528\n",
      "relevant document ranking:  34\n",
      "query number:  532\n",
      "relevant document ranking:  59\n",
      "query number:  538\n",
      "relevant document ranking:  45\n",
      "query number:  541\n",
      "relevant document ranking:  50\n",
      "query number:  549\n",
      "relevant document ranking:  16\n",
      "query number:  563\n",
      "relevant document ranking:  60\n",
      "query number:  566\n",
      "relevant document ranking:  4\n",
      "query number:  567\n",
      "relevant document ranking:  49\n",
      "query number:  579\n",
      "relevant document ranking:  42\n",
      "query number:  616\n",
      "relevant document ranking:  60\n",
      "query number:  623\n",
      "relevant document ranking:  21\n",
      "query number:  641\n",
      "relevant document ranking:  5\n",
      "query number:  644\n",
      "relevant document ranking:  40\n",
      "query number:  644\n",
      "relevant document ranking:  80\n",
      "query number:  645\n",
      "relevant document ranking:  80\n",
      "query number:  647\n",
      "relevant document ranking:  16\n",
      "query number:  665\n",
      "relevant document ranking:  53\n",
      "query number:  685\n",
      "relevant document ranking:  35\n",
      "query number:  709\n",
      "relevant document ranking:  69\n",
      "query number:  725\n",
      "relevant document ranking:  79\n",
      "query number:  726\n",
      "relevant document ranking:  52\n",
      "query number:  726\n",
      "relevant document ranking:  65\n",
      "query number:  744\n",
      "relevant document ranking:  19\n",
      "query number:  751\n",
      "relevant document ranking:  4\n",
      "query number:  812\n",
      "relevant document ranking:  79\n",
      "query number:  827\n",
      "relevant document ranking:  2\n",
      "query number:  833\n",
      "relevant document ranking:  77\n",
      "query number:  835\n",
      "relevant document ranking:  77\n",
      "query number:  840\n",
      "relevant document ranking:  19\n",
      "query number:  844\n",
      "relevant document ranking:  41\n",
      "query number:  852\n",
      "relevant document ranking:  97\n",
      "query number:  864\n",
      "relevant document ranking:  94\n",
      "query number:  869\n",
      "relevant document ranking:  97\n",
      "query number:  889\n",
      "relevant document ranking:  2\n",
      "query number:  896\n",
      "relevant document ranking:  85\n",
      "query number:  902\n",
      "relevant document ranking:  56\n",
      "query number:  902\n",
      "relevant document ranking:  60\n",
      "query number:  915\n",
      "relevant document ranking:  30\n",
      "query number:  915\n",
      "relevant document ranking:  39\n",
      "query number:  915\n",
      "relevant document ranking:  42\n",
      "query number:  915\n",
      "relevant document ranking:  49\n",
      "query number:  925\n",
      "relevant document ranking:  92\n",
      "query number:  927\n",
      "relevant document ranking:  99\n",
      "query number:  931\n",
      "relevant document ranking:  91\n",
      "query number:  933\n",
      "relevant document ranking:  39\n",
      "query number:  936\n",
      "relevant document ranking:  37\n",
      "query number:  945\n",
      "relevant document ranking:  75\n",
      "query number:  959\n",
      "relevant document ranking:  23\n",
      "query number:  968\n",
      "relevant document ranking:  54\n",
      "query number:  974\n",
      "relevant document ranking:  78\n",
      "query number:  977\n",
      "relevant document ranking:  83\n",
      "query number:  981\n",
      "relevant document ranking:  87\n",
      "query number:  991\n",
      "relevant document ranking:  33\n",
      "query number:  998\n",
      "relevant document ranking:  53\n",
      "query number:  999\n",
      "relevant document ranking:  11\n",
      "query number:  1020\n",
      "relevant document ranking:  5\n",
      "query number:  1022\n",
      "relevant document ranking:  62\n",
      "query number:  1037\n",
      "relevant document ranking:  40\n",
      "query number:  1040\n",
      "relevant document ranking:  45\n",
      "query number:  1066\n",
      "relevant document ranking:  49\n",
      "query number:  1072\n",
      "relevant document ranking:  91\n",
      "query number:  1073\n",
      "relevant document ranking:  79\n",
      "query number:  1074\n",
      "relevant document ranking:  13\n",
      "query number:  1076\n",
      "relevant document ranking:  11\n",
      "query number:  1083\n",
      "relevant document ranking:  88\n",
      "query number:  1088\n",
      "relevant document ranking:  3\n",
      "query number:  1088\n",
      "relevant document ranking:  5\n",
      "query number:  1090\n",
      "relevant document ranking:  2\n",
      "query number:  1100\n",
      "relevant document ranking:  85\n",
      "query number:  1101\n",
      "relevant document ranking:  4\n",
      "query number:  1104\n",
      "relevant document ranking:  12\n",
      "query number:  1104\n",
      "relevant document ranking:  77\n",
      "query number:  1111\n",
      "relevant document ranking:  68\n",
      "query number:  1118\n",
      "relevant document ranking:  1\n",
      "query number:  1120\n",
      "relevant document ranking:  10\n",
      "query number:  1122\n",
      "relevant document ranking:  38\n",
      "query number:  1122\n",
      "relevant document ranking:  57\n",
      "query number:  1122\n",
      "relevant document ranking:  88\n",
      "query number:  1125\n",
      "relevant document ranking:  94\n",
      "query number:  1126\n",
      "relevant document ranking:  23\n",
      "query number:  1126\n",
      "relevant document ranking:  63\n",
      "query number:  1127\n",
      "relevant document ranking:  19\n",
      "query number:  1128\n",
      "relevant document ranking:  27\n",
      "query number:  1129\n",
      "relevant document ranking:  3\n",
      "query number:  1130\n",
      "relevant document ranking:  11\n",
      "query number:  1130\n",
      "relevant document ranking:  34\n",
      "query number:  1133\n",
      "relevant document ranking:  13\n",
      "query number:  1134\n",
      "relevant document ranking:  2\n",
      "query number:  1134\n",
      "relevant document ranking:  7\n",
      "query number:  1134\n",
      "relevant document ranking:  8\n",
      "query number:  1135\n",
      "relevant document ranking:  3\n",
      "query number:  1135\n",
      "relevant document ranking:  4\n",
      "query number:  1137\n",
      "relevant document ranking:  4\n",
      "query number:  1139\n",
      "relevant document ranking:  2\n",
      "query number:  1140\n",
      "relevant document ranking:  3\n",
      "query number:  1141\n",
      "relevant document ranking:  1\n",
      "query number:  1146\n",
      "relevant document ranking:  3\n"
     ]
    }
   ],
   "source": [
    "MAP_LR,MnDCG_LR= GetMetrics(validation_set,V_top_qids_LR,V_top_pids_LR)"
   ]
  },
  {
   "cell_type": "code",
   "execution_count": 61,
   "metadata": {},
   "outputs": [
    {
     "data": {
      "text/plain": [
       "0.009460606926325455"
      ]
     },
     "execution_count": 61,
     "metadata": {},
     "output_type": "execute_result"
    }
   ],
   "source": [
    "MAP_LR"
   ]
  },
  {
   "cell_type": "code",
   "execution_count": 62,
   "metadata": {},
   "outputs": [
    {
     "data": {
      "text/plain": [
       "0.03061571797995889"
      ]
     },
     "execution_count": 62,
     "metadata": {},
     "output_type": "execute_result"
    }
   ],
   "source": [
    "MnDCG_LR"
   ]
  },
  {
   "cell_type": "code",
   "execution_count": 82,
   "metadata": {},
   "outputs": [
    {
     "data": {
      "text/plain": [
       "1148"
      ]
     },
     "execution_count": 82,
     "metadata": {},
     "output_type": "execute_result"
    }
   ],
   "source": [
    "len(V_top_qids_LR)"
   ]
  },
  {
   "cell_type": "code",
   "execution_count": 97,
   "metadata": {},
   "outputs": [
    {
     "name": "stdout",
     "output_type": "stream",
     "text": [
      "Query: \n",
      "['ithaca teachers salaries']\n",
      "\n",
      "\n",
      "Top BM25 on txt file: \n",
      "['Elementary School Teacher in Ithaca, New York Salary An Elementary School Teacher in Ithaca, New York earns an average salary of $56,074 per year. $44,362 - $68,000']\n"
     ]
    }
   ],
   "source": [
    "Compare= 86\n",
    "\n",
    "\n",
    "print(\"Query: \")\n",
    "print(np.unique(validation_set[np.where(validation_set[:,0]==V_top_qids_LR[Compare][0]),2]))\n",
    "print(\"\\n\")\n",
    "print(\"Top BM25 on txt file: \")\n",
    "print(np.unique(validation_set[np.where(validation_set[:,1]==V_top_pids_LR[Compare][0]),3]))"
   ]
  },
  {
   "cell_type": "markdown",
   "metadata": {},
   "source": [
    "Running against the test queries and saving the file:"
   ]
  },
  {
   "cell_type": "code",
   "execution_count": 99,
   "metadata": {},
   "outputs": [],
   "source": [
    "testing_LR= np.zeros((len(testing_filtered_passages_per_query),len(testing_filtered_passages_per_query[0])))\n",
    "\n",
    "for q in range(len(testing_filtered_passages_per_query)): \n",
    "    \n",
    "    testing_passage_vectors = GetEmbeddings(model,testing_filtered_passages_per_query[q],temp_testing_p[q])\n",
    "    \n",
    "             \n",
    "    testing_features= abs(testing_query_vectors[q] - testing_passage_vectors)\n",
    "    \n",
    "    #V_Q= np.tile(testing_query_vectors[q],(testing_passage_vectors.shape[0],1))\n",
    "    #testing_features_600= np.hstack((V_Q,validation_passage_vectors))\n",
    "\n",
    "    y_hat = sigmoid(testing_features@weights)\n",
    "    y_hat = y_hat.reshape((len(y_hat)))\n",
    "    testing_LR[q,0:testing_passage_vectors.shape[0]]= y_hat "
   ]
  },
  {
   "cell_type": "code",
   "execution_count": 100,
   "metadata": {},
   "outputs": [],
   "source": [
    "N=100\n",
    "top_scores_LR,top_qids_LR,top_pids_LR = GenerateNRanking(testing_LR,N,testing_passages_id_per_query,query_ids)"
   ]
  },
  {
   "cell_type": "code",
   "execution_count": 101,
   "metadata": {},
   "outputs": [
    {
     "name": "stdout",
     "output_type": "stream",
     "text": [
      "Query: \n",
      "[[\"sop's policy\"]]\n",
      "\n",
      "\n",
      "Top NN on txt file: \n",
      "[['SOP, at standard operating procedure; sop up something; sop sth up; SOP, at statement of principles']]\n"
     ]
    }
   ],
   "source": [
    "Compare= 11\n",
    "\n",
    "print(\"Query: \")\n",
    "print(test_queries[np.where(test_queries[:,0]==top_qids_LR[Compare][0]),1])\n",
    "print(\"\\n\")\n",
    "print(\"Top NN on txt file: \")\n",
    "print(testing_set[np.where(testing_set[:,1]==top_pids_LR[Compare][0]),3])"
   ]
  },
  {
   "cell_type": "code",
   "execution_count": 102,
   "metadata": {},
   "outputs": [
    {
     "name": "stderr",
     "output_type": "stream",
     "text": [
      "<ipython-input-8-a2db46748247>:4: VisibleDeprecationWarning: Creating an ndarray from ragged nested sequences (which is a list-or-tuple of lists-or-tuples-or ndarrays with different lengths or shapes) is deprecated. If you meant to do this, you must specify 'dtype=object' when creating the ndarray\n",
      "  qids= np.array(total_qid)\n",
      "<ipython-input-8-a2db46748247>:7: VisibleDeprecationWarning: Creating an ndarray from ragged nested sequences (which is a list-or-tuple of lists-or-tuples-or ndarrays with different lengths or shapes) is deprecated. If you meant to do this, you must specify 'dtype=object' when creating the ndarray\n",
      "  pids= np.array(total_pids)\n",
      "<ipython-input-8-a2db46748247>:10: VisibleDeprecationWarning: Creating an ndarray from ragged nested sequences (which is a list-or-tuple of lists-or-tuples-or ndarrays with different lengths or shapes) is deprecated. If you meant to do this, you must specify 'dtype=object' when creating the ndarray\n",
      "  scores= np.array(total_scores)\n"
     ]
    }
   ],
   "source": [
    "SaveFile(top_scores_LR,top_qids_LR,top_pids_LR,\"LR\")"
   ]
  },
  {
   "cell_type": "markdown",
   "metadata": {},
   "source": [
    "SubTask 3: Implementation of the LambdaMART Model "
   ]
  },
  {
   "cell_type": "code",
   "execution_count": 103,
   "metadata": {},
   "outputs": [],
   "source": [
    "import xgboost as xgb"
   ]
  },
  {
   "cell_type": "code",
   "execution_count": 104,
   "metadata": {},
   "outputs": [],
   "source": [
    "max_depth= range(1,10)\n",
    "eta = np.linspace(0.1,0.5,10)\n",
    "num_round = range(1,10)"
   ]
  },
  {
   "cell_type": "code",
   "execution_count": 105,
   "metadata": {},
   "outputs": [],
   "source": [
    "xg_training_relevancy = np.array(sampled_relevs)\n",
    "xg_training = xgb.DMatrix(sampled_training_features, label=xg_training_relevancy)"
   ]
  },
  {
   "cell_type": "code",
   "execution_count": 106,
   "metadata": {},
   "outputs": [],
   "source": [
    "xg_validation_relevancy = validation_set[0:1000,4]          # only used 1,000 values for validation \n",
    "\n",
    "xg_validation_q_vectors = GetEmbeddings(model,unordered_validation_queries,temp_q)\n",
    "xg_validation_p_vectors = GetEmbeddings(model,unordered_validation_passages,temp_p)\n",
    "xg_validation_features = abs(xg_validation_q_vectors - xg_validation_p_vectors)\n",
    "\n",
    "xg_validation = xgb.DMatrix(xg_validation_features, label=xg_validation_relevancy)"
   ]
  },
  {
   "cell_type": "markdown",
   "metadata": {},
   "source": [
    "Cross-Validation"
   ]
  },
  {
   "cell_type": "code",
   "execution_count": 110,
   "metadata": {},
   "outputs": [],
   "source": [
    "Validation_LambdaMart = np.zeros((len(clean_filtered_valid_queries),len(clean_valid_passages_for_queries[0])))\n",
    "evallist = [(xg_validation, 'eval'), (xg_training, 'train')]"
   ]
  },
  {
   "cell_type": "code",
   "execution_count": 122,
   "metadata": {},
   "outputs": [
    {
     "name": "stdout",
     "output_type": "stream",
     "text": [
      "Using maximum depth as 6  and step size shrinkage as 0.100\n",
      "[0]\teval-map:0.00242\ttrain-map:0.14161\n",
      "[1]\teval-map:0.00662\ttrain-map:0.17246\n",
      "[2]\teval-map:0.01176\ttrain-map:0.19626\n",
      "[3]\teval-map:0.00806\ttrain-map:0.20274\n",
      "[4]\teval-map:0.00529\ttrain-map:0.21413\n",
      "[5]\teval-map:0.00588\ttrain-map:0.22592\n",
      "[6]\teval-map:0.00699\ttrain-map:0.23404\n",
      "[7]\teval-map:0.00943\ttrain-map:0.24099\n",
      "MAP:  0.019570155192787635\n",
      "nDCG:  0.03996451345874843\n",
      "counter:  0\n",
      "Using maximum depth as 6  and step size shrinkage as 0.144\n",
      "[0]\teval-map:0.00242\ttrain-map:0.14161\n",
      "[1]\teval-map:0.00658\ttrain-map:0.17221\n",
      "[2]\teval-map:0.01587\ttrain-map:0.19461\n",
      "[3]\teval-map:0.02174\ttrain-map:0.20793\n",
      "[4]\teval-map:0.01282\ttrain-map:0.21927\n",
      "[5]\teval-map:0.01075\ttrain-map:0.23056\n",
      "[6]\teval-map:0.01053\ttrain-map:0.23725\n",
      "[7]\teval-map:0.00870\ttrain-map:0.24640\n",
      "MAP:  0.01683678445879968\n",
      "nDCG:  0.040830483055395425\n",
      "counter:  1\n",
      "Using maximum depth as 6  and step size shrinkage as 0.189\n",
      "[0]\teval-map:0.00242\ttrain-map:0.14161\n",
      "[1]\teval-map:0.00654\ttrain-map:0.17280\n",
      "[2]\teval-map:0.00394\ttrain-map:0.19279\n",
      "[3]\teval-map:0.00391\ttrain-map:0.20721\n",
      "[4]\teval-map:0.00344\ttrain-map:0.21979\n",
      "[5]\teval-map:0.00259\ttrain-map:0.22868\n",
      "[6]\teval-map:0.00317\ttrain-map:0.24050\n",
      "[7]\teval-map:0.00311\ttrain-map:0.25163\n",
      "MAP:  0.02048166157287421\n",
      "nDCG:  0.042580187526436046\n",
      "counter:  2\n",
      "Using maximum depth as 6  and step size shrinkage as 0.233\n",
      "[0]\teval-map:0.00242\ttrain-map:0.14161\n",
      "[1]\teval-map:0.00654\ttrain-map:0.17285\n",
      "[2]\teval-map:0.00274\ttrain-map:0.19706\n",
      "[3]\teval-map:0.00326\ttrain-map:0.21351\n",
      "[4]\teval-map:0.00314\ttrain-map:0.22524\n",
      "[5]\teval-map:0.00302\ttrain-map:0.23865\n",
      "[6]\teval-map:0.00276\ttrain-map:0.25586\n",
      "[7]\teval-map:0.00302\ttrain-map:0.26447\n",
      "MAP:  0.02098798487992826\n",
      "nDCG:  0.040916223244613484\n",
      "counter:  3\n",
      "Using maximum depth as 6  and step size shrinkage as 0.278\n",
      "[0]\teval-map:0.00242\ttrain-map:0.14161\n",
      "[1]\teval-map:0.00690\ttrain-map:0.17254\n",
      "[2]\teval-map:0.00248\ttrain-map:0.19490\n",
      "[3]\teval-map:0.00247\ttrain-map:0.20760\n",
      "[4]\teval-map:0.00294\ttrain-map:0.21241\n",
      "[5]\teval-map:0.00252\ttrain-map:0.22623\n",
      "[6]\teval-map:0.00261\ttrain-map:0.23913\n",
      "[7]\teval-map:0.00207\ttrain-map:0.25074\n",
      "MAP:  0.016623645169742296\n",
      "nDCG:  0.04346882384872559\n",
      "counter:  4\n",
      "Using maximum depth as 6  and step size shrinkage as 0.322\n",
      "[0]\teval-map:0.00242\ttrain-map:0.14161\n",
      "[1]\teval-map:0.00690\ttrain-map:0.17275\n",
      "[2]\teval-map:0.00680\ttrain-map:0.19762\n",
      "[3]\teval-map:0.01471\ttrain-map:0.21497\n",
      "[4]\teval-map:0.01124\ttrain-map:0.23606\n",
      "[5]\teval-map:0.00870\ttrain-map:0.25034\n",
      "[6]\teval-map:0.00662\ttrain-map:0.26247\n",
      "[7]\teval-map:0.00870\ttrain-map:0.27161\n",
      "MAP:  0.017887622986285455\n",
      "nDCG:  0.0375288647877652\n",
      "counter:  5\n",
      "Using maximum depth as 6  and step size shrinkage as 0.367\n",
      "[0]\teval-map:0.00242\ttrain-map:0.14161\n",
      "[1]\teval-map:0.00694\ttrain-map:0.17233\n",
      "[2]\teval-map:0.00625\ttrain-map:0.19593\n",
      "[3]\teval-map:0.00645\ttrain-map:0.21088\n",
      "[4]\teval-map:0.00885\ttrain-map:0.22840\n",
      "[5]\teval-map:0.00847\ttrain-map:0.23946\n",
      "[6]\teval-map:0.01429\ttrain-map:0.25072\n",
      "[7]\teval-map:0.01538\ttrain-map:0.26200\n",
      "MAP:  0.01892527559211082\n",
      "nDCG:  0.03908435463302811\n",
      "counter:  6\n",
      "Using maximum depth as 6  and step size shrinkage as 0.411\n",
      "[0]\teval-map:0.00242\ttrain-map:0.14161\n",
      "[1]\teval-map:0.00690\ttrain-map:0.17202\n",
      "[2]\teval-map:0.00694\ttrain-map:0.19381\n",
      "[3]\teval-map:0.00806\ttrain-map:0.21909\n",
      "[4]\teval-map:0.00725\ttrain-map:0.23676\n",
      "[5]\teval-map:0.00641\ttrain-map:0.24701\n",
      "[6]\teval-map:0.00725\ttrain-map:0.25618\n",
      "[7]\teval-map:0.00714\ttrain-map:0.26764\n",
      "MAP:  0.015634161300484624\n",
      "nDCG:  0.03842106442794546\n",
      "counter:  7\n",
      "Using maximum depth as 6  and step size shrinkage as 0.456\n",
      "[0]\teval-map:0.00242\ttrain-map:0.14161\n",
      "[1]\teval-map:0.00690\ttrain-map:0.17207\n",
      "[2]\teval-map:0.01163\ttrain-map:0.19945\n",
      "[3]\teval-map:0.02083\ttrain-map:0.21783\n",
      "[4]\teval-map:0.01587\ttrain-map:0.23950\n",
      "[5]\teval-map:0.02632\ttrain-map:0.25363\n",
      "[6]\teval-map:0.01087\ttrain-map:0.26701\n",
      "[7]\teval-map:0.00952\ttrain-map:0.27847\n",
      "MAP:  0.018497012179055403\n",
      "nDCG:  0.04280541351198314\n",
      "counter:  8\n",
      "Using maximum depth as 6  and step size shrinkage as 0.500\n",
      "[0]\teval-map:0.00242\ttrain-map:0.14161\n",
      "[1]\teval-map:0.00699\ttrain-map:0.17284\n",
      "[2]\teval-map:0.00546\ttrain-map:0.19618\n",
      "[3]\teval-map:0.00990\ttrain-map:0.21533\n",
      "[4]\teval-map:0.00833\ttrain-map:0.23882\n",
      "[5]\teval-map:0.00800\ttrain-map:0.25426\n",
      "[6]\teval-map:0.00935\ttrain-map:0.26957\n",
      "[7]\teval-map:0.00800\ttrain-map:0.28436\n",
      "MAP:  0.020769450129912635\n",
      "nDCG:  0.04676457194872081\n",
      "counter:  9\n"
     ]
    }
   ],
   "source": [
    "#evallist = [(xg_validation, 'eval'), (xg_training, 'train')]\n",
    "#LM_MAP_plotting = []\n",
    "#LM_MnDCG_plotting = []\n",
    "\n",
    "#With MAP evaluation\n",
    "#counter=0\n",
    "#for e in eta:\n",
    "#    for m in max_depth:\n",
    "#        for n in num_round:\n",
    "        #    param = {'max_depth':m, 'eta':e, 'objective':'rank:pairwise', 'eval_metric':'map'}\n",
    "        #    print(\"Using maximum depth as %i\" %m,\" and step size shrinkage as %.3f\" %e)\n",
    "        #    LM_model = xgb.train(param, xg_training,n,evallist)\n",
    "\n",
    "        #    for q in range(len(clean_filtered_valid_queries)):                 # Iterating Through each query \n",
    "                #if q%250==0:\n",
    "                #    print(\"iteration number: %i\" %q,\"out of %i\" %len(clean_filtered_valid_queries))\n",
    "\n",
    "        #        validation_passage_vectors = GetEmbeddings(model,clean_valid_passages_for_queries[q],temp_validation_p[q])\n",
    "\n",
    "        #        validation_features= abs(validation_query_vectors[q] - validation_passage_vectors)  \n",
    "        #        xg_y_hat = xgb.DMatrix(validation_features)\n",
    "\n",
    "        #        y_hat = LM_model.predict(xg_y_hat)\n",
    "\n",
    "        #        Validation_LambdaMart[q,0:validation_passage_vectors.shape[0]]= y_hat \n",
    "        #    N=100\n",
    "        #    V_top_scores_LM,V_top_qids_LM,V_top_pids_LM = GenerateNRanking(Validation_LambdaMart,N,validation_passages_id_for_queries,subset_validation_query_ids)\n",
    "        #    MAP_LM,MnDCG_LM= GetMetrics(validation_set,V_top_qids_LM,V_top_pids_LM)\n",
    "        #    LM_MAP_plotting.append(MAP_LM)\n",
    "        #    LM_MnDCG_plotting.append(MnDCG_LM)\n",
    "        #    print(\"MAP: \",MAP_LM)\n",
    "        #    print(\"nDCG: \",MnDCG_LM)\n",
    "        #    print(\"counter: \", counter)\n",
    "        #    counter+=1\n",
    "\n"
   ]
  },
  {
   "cell_type": "code",
   "execution_count": 124,
   "metadata": {},
   "outputs": [],
   "source": [
    "#Ideal Parameters for MAP\n",
    "ideal_param = {'max_depth':max_depth[5], 'eta':eta[9], 'objective':'rank:pairwise'}"
   ]
  },
  {
   "cell_type": "code",
   "execution_count": 132,
   "metadata": {},
   "outputs": [
    {
     "name": "stdout",
     "output_type": "stream",
     "text": [
      "[0]\teval-map:0.00242\ttrain-map:0.14161\n",
      "[1]\teval-map:0.00699\ttrain-map:0.17284\n",
      "[2]\teval-map:0.00546\ttrain-map:0.19618\n",
      "[3]\teval-map:0.00990\ttrain-map:0.21533\n",
      "[4]\teval-map:0.00833\ttrain-map:0.23882\n",
      "[5]\teval-map:0.00800\ttrain-map:0.25426\n",
      "[6]\teval-map:0.00935\ttrain-map:0.26957\n",
      "[7]\teval-map:0.00800\ttrain-map:0.28436\n"
     ]
    }
   ],
   "source": [
    "LM_model = xgb.train(ideal_param, xg_training,num_round[7],evallist)"
   ]
  },
  {
   "cell_type": "code",
   "execution_count": 133,
   "metadata": {},
   "outputs": [
    {
     "name": "stdout",
     "output_type": "stream",
     "text": [
      "iteration number: 0 out of 1148\n",
      "iteration number: 100 out of 1148\n",
      "iteration number: 200 out of 1148\n",
      "iteration number: 300 out of 1148\n",
      "iteration number: 400 out of 1148\n",
      "iteration number: 500 out of 1148\n",
      "iteration number: 600 out of 1148\n",
      "iteration number: 700 out of 1148\n",
      "iteration number: 800 out of 1148\n",
      "iteration number: 900 out of 1148\n",
      "iteration number: 1000 out of 1148\n",
      "iteration number: 1100 out of 1148\n",
      "121.33047437667847\n"
     ]
    }
   ],
   "source": [
    "start=time.time()\n",
    "for q in range(len(clean_filtered_valid_queries)):                 # Iterating Through each query \n",
    "    if q%100==0:\n",
    "        print(\"iteration number: %i\" %q,\"out of %i\" %len(clean_filtered_valid_queries))\n",
    "              \n",
    "    validation_passage_vectors = GetEmbeddings(model,clean_valid_passages_for_queries[q],temp_validation_p[q])\n",
    "    \n",
    "    validation_features= abs(validation_query_vectors[q] - validation_passage_vectors)  \n",
    "    xg_y_hat = xgb.DMatrix(validation_features)\n",
    "\n",
    "    y_hat = LM_model.predict(xg_y_hat)\n",
    "    \n",
    "    Validation_LambdaMart[q,0:validation_passage_vectors.shape[0]]= y_hat \n",
    "print(time.time() - start)"
   ]
  },
  {
   "cell_type": "markdown",
   "metadata": {},
   "source": [
    "Computing Performance"
   ]
  },
  {
   "cell_type": "code",
   "execution_count": 134,
   "metadata": {},
   "outputs": [],
   "source": [
    "#LambdaMart\n",
    "N=100\n",
    "top_scores_LM,top_qids_LM,top_pids_LM = GenerateNRanking(Validation_LambdaMart,N,validation_passages_id_for_queries,subset_validation_query_ids)"
   ]
  },
  {
   "cell_type": "code",
   "execution_count": 135,
   "metadata": {},
   "outputs": [],
   "source": [
    "MAP_LM,MnDCG_LM= GetMetrics(validation_set,top_qids_LM,top_pids_LM)"
   ]
  },
  {
   "cell_type": "code",
   "execution_count": 136,
   "metadata": {},
   "outputs": [
    {
     "data": {
      "text/plain": [
       "0.020769450129912635"
      ]
     },
     "execution_count": 136,
     "metadata": {},
     "output_type": "execute_result"
    }
   ],
   "source": [
    "MAP_LM"
   ]
  },
  {
   "cell_type": "code",
   "execution_count": 137,
   "metadata": {},
   "outputs": [
    {
     "data": {
      "text/plain": [
       "0.04676457194872081"
      ]
     },
     "execution_count": 137,
     "metadata": {},
     "output_type": "execute_result"
    }
   ],
   "source": [
    "MnDCG_LM"
   ]
  },
  {
   "cell_type": "markdown",
   "metadata": {},
   "source": [
    "Running against test queries and saving file:"
   ]
  },
  {
   "cell_type": "code",
   "execution_count": 138,
   "metadata": {},
   "outputs": [],
   "source": [
    "LambdaMart = np.zeros((len(testing_filtered_passages_per_query),len(testing_filtered_passages_per_query[0])))\n",
    "\n",
    "for q in range(len(testing_filtered_passages_per_query)): \n",
    "    \n",
    "    testing_passage_vectors = GetEmbeddings(model,testing_filtered_passages_per_query[q],temp_testing_p[q])\n",
    "    \n",
    "             \n",
    "    testing_features= abs(testing_query_vectors[q] - testing_passage_vectors)\n",
    "    \n",
    "    #V_Q= np.tile(testing_query_vectors[q],(testing_passage_vectors.shape[0],1))\n",
    "    \n",
    "    #testing_features_600= np.hstack((V_Q,validation_passage_vectors))\n",
    "    \n",
    "    xg_y_hat = xgb.DMatrix(testing_features)\n",
    "    \n",
    "    y_hat = LM_model.predict(xg_y_hat)\n",
    "    \n",
    "    LambdaMart[q,0:testing_passage_vectors.shape[0]]= y_hat "
   ]
  },
  {
   "cell_type": "code",
   "execution_count": 139,
   "metadata": {},
   "outputs": [],
   "source": [
    "N=100\n",
    "top_scores_LM,top_qids_LM,top_pids_LM = GenerateNRanking(LambdaMart,N,testing_passages_id_per_query,query_ids)"
   ]
  },
  {
   "cell_type": "code",
   "execution_count": null,
   "metadata": {},
   "outputs": [],
   "source": [
    "Compare= 0\n",
    "\n",
    "print(\"Query: \")\n",
    "print(test_queries[np.where(test_queries[:,0]==top_qids_LM[Compare][0]),1])\n",
    "print(\"\\n\")\n",
    "print(\"Top NN on txt file: \")\n",
    "print(testing_set[np.where(testing_set[:,1]==top_pids_LM[Compare][0]),3])"
   ]
  },
  {
   "cell_type": "code",
   "execution_count": 140,
   "metadata": {},
   "outputs": [
    {
     "name": "stderr",
     "output_type": "stream",
     "text": [
      "<ipython-input-8-a2db46748247>:4: VisibleDeprecationWarning: Creating an ndarray from ragged nested sequences (which is a list-or-tuple of lists-or-tuples-or ndarrays with different lengths or shapes) is deprecated. If you meant to do this, you must specify 'dtype=object' when creating the ndarray\n",
      "  qids= np.array(total_qid)\n",
      "<ipython-input-8-a2db46748247>:7: VisibleDeprecationWarning: Creating an ndarray from ragged nested sequences (which is a list-or-tuple of lists-or-tuples-or ndarrays with different lengths or shapes) is deprecated. If you meant to do this, you must specify 'dtype=object' when creating the ndarray\n",
      "  pids= np.array(total_pids)\n",
      "<ipython-input-8-a2db46748247>:10: VisibleDeprecationWarning: Creating an ndarray from ragged nested sequences (which is a list-or-tuple of lists-or-tuples-or ndarrays with different lengths or shapes) is deprecated. If you meant to do this, you must specify 'dtype=object' when creating the ndarray\n",
      "  scores= np.array(total_scores)\n"
     ]
    }
   ],
   "source": [
    "SaveFile(top_scores_LM,top_qids_LM,top_pids_LM,\"LM\")"
   ]
  },
  {
   "cell_type": "markdown",
   "metadata": {},
   "source": [
    "Subtask 4: Neural Network"
   ]
  },
  {
   "cell_type": "code",
   "execution_count": 141,
   "metadata": {
    "scrolled": true
   },
   "outputs": [],
   "source": [
    "import torch\n",
    "from torch import nn\n",
    "import torch.nn.functional as F\n",
    "from collections import OrderedDict\n"
   ]
  },
  {
   "cell_type": "code",
   "execution_count": 168,
   "metadata": {},
   "outputs": [],
   "source": [
    "# Hyperparameters for our network\n",
    "input_size = 300\n",
    "hidden_size = 200\n",
    "hidden_size2 = 50\n",
    "output_size = 1\n",
    "\n",
    "batch_size =64"
   ]
  },
  {
   "cell_type": "code",
   "execution_count": 157,
   "metadata": {},
   "outputs": [],
   "source": [
    "from torchvision import datasets, transforms\n",
    "import torch.utils.data as Data\n",
    "from torch.utils.data import TensorDataset, DataLoader\n",
    "tensor_x = torch.Tensor(sampled_training_features) # transform to torch tensor#\n",
    "tensor_y = torch.Tensor(xg_training_relevancy)\n",
    "#tensor_y = torch.Tensor(xg_training_relevancy.reshape((xg_training_relevancy.shape[0],1)))\n",
    "\n",
    "\n",
    "NN_training = TensorDataset(tensor_x,tensor_y) # create your datset\n",
    "\n",
    "loader = Data.DataLoader(\n",
    "    dataset=NN_training,      # torch TensorDataset format\n",
    "    batch_size=batch_size,      # mini batch size\n",
    "    shuffle=True,               # random shuffle for training\n",
    "    num_workers=2,              # subprocesses for loading data\n",
    ")"
   ]
  },
  {
   "cell_type": "code",
   "execution_count": 158,
   "metadata": {},
   "outputs": [],
   "source": [
    "Validation_NN= np.zeros((len(clean_filtered_valid_queries),len(clean_valid_passages_for_queries[0])))"
   ]
  },
  {
   "cell_type": "code",
   "execution_count": 170,
   "metadata": {
    "scrolled": true
   },
   "outputs": [
    {
     "name": "stdout",
     "output_type": "stream",
     "text": [
      "Training loss: 1.29503\n",
      "0\n",
      "MAP:  0.03569800907638013\n",
      "nDCG:  0.062452678968477705\n",
      "Training loss: 1.29158\n",
      "1\n",
      "MAP:  0.04744740440996893\n",
      "nDCG:  0.07620635512587594\n",
      "Training loss: 1.28850\n",
      "2\n",
      "MAP:  0.05903119087653036\n",
      "nDCG:  0.08961685807405603\n",
      "Training loss: 1.28717\n",
      "3\n",
      "MAP:  0.058846086160563624\n",
      "nDCG:  0.0889255158263777\n",
      "Training loss: 1.28478\n",
      "4\n",
      "MAP:  0.06304266747110117\n",
      "nDCG:  0.09121273059019952\n",
      "Training loss: 1.28186\n",
      "5\n",
      "MAP:  0.06487114549778188\n",
      "nDCG:  0.09402330363754628\n",
      "Training loss: 1.28063\n",
      "6\n",
      "MAP:  0.06710929816586751\n",
      "nDCG:  0.09606350256878893\n",
      "Training loss: 1.27812\n",
      "7\n",
      "MAP:  0.06747612059788757\n",
      "nDCG:  0.09554514744267238\n",
      "Training loss: 1.27576\n",
      "8\n",
      "MAP:  0.06708453076641295\n",
      "nDCG:  0.09688988633803106\n",
      "Training loss: 1.27510\n",
      "9\n",
      "MAP:  0.070138939311448\n",
      "nDCG:  0.10139302701877817\n",
      "Training loss: 1.27302\n",
      "10\n",
      "MAP:  0.07048030200731796\n",
      "nDCG:  0.09861549770851245\n"
     ]
    }
   ],
   "source": [
    "NN_model = nn.Sequential(nn.Linear(input_size, hidden_size),\n",
    "                         nn.Sigmoid(),\n",
    "                         nn.Linear(hidden_size, output_size),\n",
    "                         nn.Sigmoid())\n",
    "# Define the loss\n",
    "pos = torch.Tensor([10])\n",
    "criterion = nn.BCEWithLogitsLoss(pos_weight=pos)\n",
    "# Optimizers require the parameters to optimize and a learning rate\n",
    "optimizer = torch.optim.Adam(NN_model.parameters(), lr=1e-6)\n",
    "\n",
    "epochs = 11\n",
    "NN_MAP_plotting = []\n",
    "NN_MnDCG_plotting = []\n",
    "\n",
    "for e in range(epochs):\n",
    "    running_loss = 0\n",
    "    for features, labels in loader:\n",
    "        n = list(labels.size())\n",
    "        \n",
    "        labels = labels.type(torch.LongTensor)\n",
    "        labels= torch.reshape(labels, [n[0],1])\n",
    "        \n",
    "        output = NN_model(features)\n",
    "        #output= torch.reshape(output, [n[0]])\n",
    "        loss = criterion(output, labels.float())\n",
    "        # Training pass\n",
    "        optimizer.zero_grad()\n",
    "        loss.backward()\n",
    "        optimizer.step()\n",
    "        running_loss += loss.item()\n",
    "    else:\n",
    "        print(f\"Training loss: %.5f\" %(running_loss/len(loader)))\n",
    "        print(e)\n",
    "    for q in range(len(clean_filtered_valid_queries)): \n",
    "        validation_passage_vectors = GetEmbeddings(model,clean_valid_passages_for_queries[q],temp_validation_p[q])\n",
    "            \n",
    "        nnvalidation_features= abs(validation_query_vectors[q] - validation_passage_vectors)\n",
    "        \n",
    "        #V_Q= np.tile(validation_query_vectors[q],(validation_passage_vectors.shape[0],1))\n",
    "        #nnvalidation_features_600= np.hstack((V_Q,validation_passage_vectors))\n",
    "    \n",
    "        NN_features = torch.as_tensor(nnvalidation_features)\n",
    "\n",
    "        y_hat = NN_model(NN_features.float())\n",
    "        Validation_NN[q,0:len(clean_valid_passages_for_queries[q])]= y_hat.detach().numpy().flatten()\n",
    "    \n",
    "    N=100\n",
    "    V_top_scores_NN,V_top_qids_NN,V_top_pids_NN = GenerateNRanking(Validation_NN,N,validation_passages_id_for_queries,subset_validation_query_ids)\n",
    "    MAP_NN,MnDCG_NN= GetMetrics(validation_set,V_top_qids_NN,V_top_pids_NN)\n",
    "    NN_MAP_plotting.append(MAP_NN)\n",
    "    NN_MnDCG_plotting.append(MnDCG_NN)\n",
    "    print(\"MAP: \",MAP_NN)\n",
    "    print(\"nDCG: \",MnDCG_NN)\n",
    "        "
   ]
  },
  {
   "cell_type": "code",
   "execution_count": 153,
   "metadata": {},
   "outputs": [
    {
     "data": {
      "image/png": "[encoded data removed]",
      "text/plain": [
       "<Figure size 432x288 with 1 Axes>"
      ]
     },
     "metadata": {
      "needs_background": "light"
     },
     "output_type": "display_data"
    }
   ],
   "source": [
    "plt.plot(NN_MAP_plotting)\n",
    "plt.title(\"MAP over number of epochs\")\n",
    "plt.xlabel(\"MAP\")\n",
    "plt.xlabel(\"Number of epochs\")\n",
    "plt.show()"
   ]
  },
  {
   "cell_type": "code",
   "execution_count": 154,
   "metadata": {},
   "outputs": [
    {
     "data": {
      "image/png": "[encoded data removed]",
      "text/plain": [
       "<Figure size 432x288 with 1 Axes>"
      ]
     },
     "metadata": {
      "needs_background": "light"
     },
     "output_type": "display_data"
    }
   ],
   "source": [
    "plt.plot(NN_MnDCG_plotting)\n",
    "plt.title(\"MnDCG over number of epochs\")\n",
    "plt.title(\"MnDCGs\")\n",
    "plt.title(\"Number of epochs\")\n",
    "plt.show()"
   ]
  },
  {
   "cell_type": "markdown",
   "metadata": {},
   "source": [
    "Running against testing queries and saving File:"
   ]
  },
  {
   "cell_type": "code",
   "execution_count": 171,
   "metadata": {},
   "outputs": [],
   "source": [
    "testing_NN= np.zeros((len(testing_filtered_passages_per_query),len(testing_filtered_passages_per_query[0])))\n",
    "\n",
    "for q in range(len(testing_filtered_passages_per_query)): \n",
    "    \n",
    "    testing_passage_vectors = GetEmbeddings(model,testing_filtered_passages_per_query[q],temp_testing_p[q])\n",
    "             \n",
    "        \n",
    "    testing_features= abs(testing_query_vectors[q] - testing_passage_vectors)\n",
    "    \n",
    "    #V_Q= np.tile(testing_query_vectors[q],(testing_passage_vectors.shape[0],1))\n",
    "    #testing_features_600= np.hstack((V_Q,testing_passage_vectors))\n",
    "    \n",
    "    NN_y_hat = torch.as_tensor(testing_features)\n",
    "\n",
    "    y_hat = NN_model(NN_y_hat.float())\n",
    "    \n",
    "    testing_NN[q,0:testing_passage_vectors.shape[0]]= y_hat.detach().numpy().flatten()"
   ]
  },
  {
   "cell_type": "code",
   "execution_count": 172,
   "metadata": {},
   "outputs": [],
   "source": [
    "N=100\n",
    "top_scores_NN,top_qids_NN,top_pids_NN = GenerateNRanking(testing_NN,N,testing_passages_id_per_query,query_ids)"
   ]
  },
  {
   "cell_type": "code",
   "execution_count": 173,
   "metadata": {},
   "outputs": [
    {
     "name": "stdout",
     "output_type": "stream",
     "text": [
      "Query: \n",
      "[['where is steph currys home in nc']]\n",
      "\n",
      "\n",
      "Top NN on txt file: \n",
      "[['Steph Curry’s mom Sonya Curry. Steph Curry’s mom (and Dell Curry’s wife), Sonya Curry, is the heart and soul of the Curry cheering section. This cheering section also extends to Seth Curry, a Duke alumni who now plays for the Sacramento Kings. Dell Curry’s wife attended Virginia Tech back in the 80’s.']]\n",
      "0.25061556696891785\n"
     ]
    }
   ],
   "source": [
    "Compare= 4\n",
    "\n",
    "print(\"Query: \")\n",
    "print(test_queries[np.where(test_queries[:,0]==top_qids_NN[Compare][0]),1])\n",
    "print(\"\\n\")\n",
    "print(\"Top NN on txt file: \")\n",
    "print(testing_set[np.where(testing_set[:,1]==top_pids_NN[Compare][0]),3])\n",
    "\n",
    "print(top_scores_NN[Compare][0])"
   ]
  },
  {
   "cell_type": "code",
   "execution_count": 174,
   "metadata": {},
   "outputs": [
    {
     "name": "stderr",
     "output_type": "stream",
     "text": [
      "<ipython-input-8-a2db46748247>:4: VisibleDeprecationWarning: Creating an ndarray from ragged nested sequences (which is a list-or-tuple of lists-or-tuples-or ndarrays with different lengths or shapes) is deprecated. If you meant to do this, you must specify 'dtype=object' when creating the ndarray\n",
      "  qids= np.array(total_qid)\n",
      "<ipython-input-8-a2db46748247>:7: VisibleDeprecationWarning: Creating an ndarray from ragged nested sequences (which is a list-or-tuple of lists-or-tuples-or ndarrays with different lengths or shapes) is deprecated. If you meant to do this, you must specify 'dtype=object' when creating the ndarray\n",
      "  pids= np.array(total_pids)\n",
      "<ipython-input-8-a2db46748247>:10: VisibleDeprecationWarning: Creating an ndarray from ragged nested sequences (which is a list-or-tuple of lists-or-tuples-or ndarrays with different lengths or shapes) is deprecated. If you meant to do this, you must specify 'dtype=object' when creating the ndarray\n",
      "  scores= np.array(total_scores)\n"
     ]
    }
   ],
   "source": [
    "SaveFile(top_scores_NN,top_qids_NN,top_pids_NN,\"NN\")"
   ]
  }
 ],
 "metadata": {
  "kernelspec": {
   "display_name": "Python 3",
   "language": "python",
   "name": "python3"
  },
  "language_info": {
   "codemirror_mode": {
    "name": "ipython",
    "version": 3
   },
   "file_extension": ".py",
   "mimetype": "text/x-python",
   "name": "python",
   "nbconvert_exporter": "python",
   "pygments_lexer": "ipython3",
   "version": "3.8.8"
  }
 },
 "nbformat": 4,
 "nbformat_minor": 4
}
